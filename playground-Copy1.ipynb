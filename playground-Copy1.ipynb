{
 "cells": [
  {
   "cell_type": "code",
   "execution_count": 4,
   "metadata": {
    "collapsed": false
   },
   "outputs": [
    {
     "name": "stderr",
     "output_type": "stream",
     "text": [
      "Using Theano backend.\n",
      "Using gpu device 0: GeForce GTX 960 (CNMeM is enabled with initial size: 65.0% of memory, cuDNN not available)\n"
     ]
    }
   ],
   "source": [
    "import pyscreenshot as ImageGrab\n",
    "import keras"
   ]
  },
  {
   "cell_type": "markdown",
   "metadata": {},
   "source": [
    "### model"
   ]
  },
  {
   "cell_type": "code",
   "execution_count": 8,
   "metadata": {
    "collapsed": false,
    "scrolled": true
   },
   "outputs": [
    {
     "name": "stdout",
     "output_type": "stream",
     "text": [
      "____________________________________________________________________________________________________\n",
      "Layer (type)                     Output Shape          Param #     Connected to                     \n",
      "====================================================================================================\n",
      "activation_2 (Activation)        (None, 3, 455, 590)   0           activation_input_2[0][0]         \n",
      "____________________________________________________________________________________________________\n",
      "zeropadding2d_14 (ZeroPadding2D) (None, 3, 457, 592)   0           activation_2[0][0]               \n",
      "____________________________________________________________________________________________________\n",
      "convolution2d_14 (Convolution2D) (None, 64, 455, 590)  1792        zeropadding2d_14[0][0]           \n",
      "____________________________________________________________________________________________________\n",
      "zeropadding2d_15 (ZeroPadding2D) (None, 64, 457, 592)  0           convolution2d_14[0][0]           \n",
      "____________________________________________________________________________________________________\n",
      "convolution2d_15 (Convolution2D) (None, 64, 455, 590)  36928       zeropadding2d_15[0][0]           \n",
      "____________________________________________________________________________________________________\n",
      "maxpooling2d_6 (MaxPooling2D)    (None, 64, 227, 295)  0           convolution2d_15[0][0]           \n",
      "____________________________________________________________________________________________________\n",
      "zeropadding2d_16 (ZeroPadding2D) (None, 64, 229, 297)  0           maxpooling2d_6[0][0]             \n",
      "____________________________________________________________________________________________________\n",
      "convolution2d_16 (Convolution2D) (None, 128, 227, 295) 73856       zeropadding2d_16[0][0]           \n",
      "____________________________________________________________________________________________________\n",
      "zeropadding2d_17 (ZeroPadding2D) (None, 128, 229, 297) 0           convolution2d_16[0][0]           \n",
      "____________________________________________________________________________________________________\n",
      "convolution2d_17 (Convolution2D) (None, 128, 227, 295) 147584      zeropadding2d_17[0][0]           \n",
      "____________________________________________________________________________________________________\n",
      "maxpooling2d_7 (MaxPooling2D)    (None, 128, 113, 147) 0           convolution2d_17[0][0]           \n",
      "____________________________________________________________________________________________________\n",
      "zeropadding2d_18 (ZeroPadding2D) (None, 128, 115, 149) 0           maxpooling2d_7[0][0]             \n",
      "____________________________________________________________________________________________________\n",
      "convolution2d_18 (Convolution2D) (None, 256, 113, 147) 295168      zeropadding2d_18[0][0]           \n",
      "____________________________________________________________________________________________________\n",
      "zeropadding2d_19 (ZeroPadding2D) (None, 256, 115, 149) 0           convolution2d_18[0][0]           \n",
      "____________________________________________________________________________________________________\n",
      "convolution2d_19 (Convolution2D) (None, 256, 113, 147) 590080      zeropadding2d_19[0][0]           \n",
      "____________________________________________________________________________________________________\n",
      "zeropadding2d_20 (ZeroPadding2D) (None, 256, 115, 149) 0           convolution2d_19[0][0]           \n",
      "____________________________________________________________________________________________________\n",
      "convolution2d_20 (Convolution2D) (None, 256, 113, 147) 590080      zeropadding2d_20[0][0]           \n",
      "____________________________________________________________________________________________________\n",
      "maxpooling2d_8 (MaxPooling2D)    (None, 256, 56, 73)   0           convolution2d_20[0][0]           \n",
      "____________________________________________________________________________________________________\n",
      "zeropadding2d_21 (ZeroPadding2D) (None, 256, 58, 75)   0           maxpooling2d_8[0][0]             \n",
      "____________________________________________________________________________________________________\n",
      "convolution2d_21 (Convolution2D) (None, 512, 56, 73)   1180160     zeropadding2d_21[0][0]           \n",
      "____________________________________________________________________________________________________\n",
      "zeropadding2d_22 (ZeroPadding2D) (None, 512, 58, 75)   0           convolution2d_21[0][0]           \n",
      "____________________________________________________________________________________________________\n",
      "convolution2d_22 (Convolution2D) (None, 512, 56, 73)   2359808     zeropadding2d_22[0][0]           \n",
      "____________________________________________________________________________________________________\n",
      "zeropadding2d_23 (ZeroPadding2D) (None, 512, 58, 75)   0           convolution2d_22[0][0]           \n",
      "____________________________________________________________________________________________________\n",
      "convolution2d_23 (Convolution2D) (None, 512, 56, 73)   2359808     zeropadding2d_23[0][0]           \n",
      "____________________________________________________________________________________________________\n",
      "maxpooling2d_9 (MaxPooling2D)    (None, 512, 28, 36)   0           convolution2d_23[0][0]           \n",
      "____________________________________________________________________________________________________\n",
      "zeropadding2d_24 (ZeroPadding2D) (None, 512, 30, 38)   0           maxpooling2d_9[0][0]             \n",
      "____________________________________________________________________________________________________\n",
      "convolution2d_24 (Convolution2D) (None, 512, 28, 36)   2359808     zeropadding2d_24[0][0]           \n",
      "____________________________________________________________________________________________________\n",
      "zeropadding2d_25 (ZeroPadding2D) (None, 512, 30, 38)   0           convolution2d_24[0][0]           \n",
      "____________________________________________________________________________________________________\n",
      "convolution2d_25 (Convolution2D) (None, 512, 28, 36)   2359808     zeropadding2d_25[0][0]           \n",
      "____________________________________________________________________________________________________\n",
      "zeropadding2d_26 (ZeroPadding2D) (None, 512, 30, 38)   0           convolution2d_25[0][0]           \n",
      "____________________________________________________________________________________________________\n",
      "convolution2d_26 (Convolution2D) (None, 512, 28, 36)   2359808     zeropadding2d_26[0][0]           \n",
      "____________________________________________________________________________________________________\n",
      "maxpooling2d_10 (MaxPooling2D)   (None, 512, 14, 18)   0           convolution2d_26[0][0]           \n",
      "____________________________________________________________________________________________________\n",
      "flatten_2 (Flatten)              (None, 129024)        0           maxpooling2d_10[0][0]            \n",
      "____________________________________________________________________________________________________\n",
      "dense_4 (Dense)                  (None, 512)           66060800    flatten_2[0][0]                  \n",
      "____________________________________________________________________________________________________\n",
      "dropout_3 (Dropout)              (None, 512)           0           dense_4[0][0]                    \n",
      "____________________________________________________________________________________________________\n",
      "dense_5 (Dense)                  (None, 512)           262656      dropout_3[0][0]                  \n",
      "____________________________________________________________________________________________________\n",
      "dropout_4 (Dropout)              (None, 512)           0           dense_5[0][0]                    \n",
      "____________________________________________________________________________________________________\n",
      "dense_6 (Dense)                  (None, 8)             4104        dropout_4[0][0]                  \n",
      "====================================================================================================\n",
      "Total params: 81042248\n",
      "____________________________________________________________________________________________________\n"
     ]
    }
   ],
   "source": [
    "from keras.utils import np_utils\n",
    "from keras.callbacks import ModelCheckpoint, EarlyStopping\n",
    "from itertools import chain\n",
    "from keras import backend as K\n",
    "from keras.layers import Dense, Activation, Convolution2D, Convolution3D, MaxPooling2D, MaxPooling3D, BatchNormalization, Flatten, ZeroPadding2D, Dropout\n",
    "from keras.models import load_model, Sequential\n",
    "from keras.optimizers import Adam\n",
    "\n",
    "INPUT_SHAPE = (3, 455, 590)\n",
    "# OUTPUT_SHAPE = (1, OUTPUT_ROW, OUTPUT_COL)\n",
    "OBJECTIVE_FUNCTION = 'binary_crossentropy'\n",
    "METRICS = ['binary_crossentropy', 'accuracy']\n",
    "\n",
    "def center_normalize(x):\n",
    "    \"\"\"Custom activation for online sample-wise center and std. normalization.\"\"\"\n",
    "    return (x - K.mean(x)) / K.std(x)\n",
    "\n",
    "def VGG_16(weights_path=None):\n",
    "    model = Sequential()\n",
    "    model.add(Activation(activation=center_normalize, input_shape=INPUT_SHAPE))\n",
    "    model.add(ZeroPadding2D((1,1), input_shape=INPUT_SHAPE))\n",
    "    # model.add(ZeroPadding2D((1,1),input_shape=(2, INPUT_ROW, INPUT_COL)))\n",
    "    model.add(Convolution2D(64, 3, 3, activation='relu'))\n",
    "    model.add(ZeroPadding2D((1,1)))\n",
    "    model.add(Convolution2D(64, 3, 3, activation='relu'))\n",
    "    model.add(MaxPooling2D((2,2), strides=(2,2)))\n",
    "\n",
    "    model.add(ZeroPadding2D((1,1)))\n",
    "    model.add(Convolution2D(128, 3, 3, activation='relu'))\n",
    "    model.add(ZeroPadding2D((1,1)))\n",
    "    model.add(Convolution2D(128, 3, 3, activation='relu'))\n",
    "    model.add(MaxPooling2D((2,2), strides=(2,2)))\n",
    "\n",
    "    model.add(ZeroPadding2D((1,1)))\n",
    "    model.add(Convolution2D(256, 3, 3, activation='relu'))\n",
    "    model.add(ZeroPadding2D((1,1)))\n",
    "    model.add(Convolution2D(256, 3, 3, activation='relu'))\n",
    "    model.add(ZeroPadding2D((1,1)))\n",
    "    model.add(Convolution2D(256, 3, 3, activation='relu'))\n",
    "    model.add(MaxPooling2D((2,2), strides=(2,2)))\n",
    "\n",
    "    model.add(ZeroPadding2D((1,1)))\n",
    "    model.add(Convolution2D(512, 3, 3, activation='relu'))\n",
    "    model.add(ZeroPadding2D((1,1)))\n",
    "    model.add(Convolution2D(512, 3, 3, activation='relu'))\n",
    "    model.add(ZeroPadding2D((1,1)))\n",
    "    model.add(Convolution2D(512, 3, 3, activation='relu'))\n",
    "    model.add(MaxPooling2D((2,2), strides=(2,2)))\n",
    "\n",
    "    model.add(ZeroPadding2D((1,1)))\n",
    "    model.add(Convolution2D(512, 3, 3, activation='relu'))\n",
    "    model.add(ZeroPadding2D((1,1)))\n",
    "    model.add(Convolution2D(512, 3, 3, activation='relu'))\n",
    "    model.add(ZeroPadding2D((1,1)))\n",
    "    model.add(Convolution2D(512, 3, 3, activation='relu'))\n",
    "    model.add(MaxPooling2D((2,2), strides=(2,2)))\n",
    "\n",
    "    model.add(Flatten())\n",
    "    model.add(Dense(512, activation='relu'))\n",
    "    model.add(Dropout(0.5))\n",
    "    model.add(Dense(512, activation='relu'))\n",
    "    model.add(Dropout(0.5))\n",
    "    model.add(Dense(8, activation='softmax'))\n",
    "    model.compile(optimizer=Adam(lr=1e-5), loss=OBJECTIVE_FUNCTION, metrics=METRICS)\n",
    "\n",
    "    return model\n",
    "\n",
    "model = VGG_16()\n",
    "model.summary()"
   ]
  },
  {
   "cell_type": "markdown",
   "metadata": {},
   "source": [
    "### get screenshot"
   ]
  },
  {
   "cell_type": "code",
   "execution_count": 17,
   "metadata": {
    "collapsed": false
   },
   "outputs": [
    {
     "name": "stdout",
     "output_type": "stream",
     "text": [
      "<class 'numpy.ndarray'>\n",
      "(455, 590, 3)\n",
      "58.0366536289 67.4806458738\n"
     ]
    }
   ],
   "source": [
    "import numpy as np\n",
    "import pyscreenshot as ImageGrab\n",
    "im=ImageGrab.grab(bbox=(120,75,710,530)) # X1,Y1,X2,Y2\n",
    "# im.show()\n",
    "im.save(\"fim.png\")\n",
    "pix = np.array(im)\n",
    "print(type(pix))\n",
    "print(pix.shape)\n",
    "print(pix.mean(), pix.std())"
   ]
  },
  {
   "cell_type": "code",
   "execution_count": 6,
   "metadata": {
    "collapsed": false
   },
   "outputs": [
    {
     "name": "stdout",
     "output_type": "stream",
     "text": [
      "<class 'numpy.ndarray'>\n",
      "(455, 590, 3)\n",
      "58.0361072825 67.4801228299\n"
     ]
    }
   ],
   "source": [
    "import numpy as np\n",
    "import pyscreenshot as ImageGrab\n",
    "im=ImageGrab.grab(bbox=(120,75,710,530)) # X1,Y1,X2,Y2\n",
    "im.show()\n",
    "im.save(\"errou.png\")\n",
    "pix = np.array(im)\n",
    "print(type(pix))\n",
    "print(pix.shape)\n",
    "print(pix.mean(), pix.std())"
   ]
  },
  {
   "cell_type": "markdown",
   "metadata": {},
   "source": [
    "### joystick"
   ]
  },
  {
   "cell_type": "raw",
   "metadata": {},
   "source": [
    "import pyxhook\n",
    "import time\n",
    "import pickle\n",
    "import numpy as np\n",
    "\n",
    "grab_count = 0\n",
    "y = []\n",
    "\n",
    "#This function is called every time a key is presssed\n",
    "def kbevent(event):\n",
    "    global grab_count\n",
    "    global y\n",
    "     \n",
    "    if event.Ascii == 32:\n",
    "        global running\n",
    "        running = False\n",
    "        return\n",
    "    \n",
    "    #print key info\n",
    "    im = ImageGrab.grab(bbox=(120, 75, 710, 530))\n",
    "    im.save('capture/{}.png'.format(grab_count))\n",
    "    grab_count += 1\n",
    "    \n",
    "#     print('pressed: {}'.format(event.Ascii))\n",
    "    y.append(event.Ascii)\n",
    "    \n",
    "\n",
    "#Create hookmanager \n",
    "hookman = pyxhook.HookManager()\n",
    "#Define our callback to fire when a key is pressed down\n",
    "hookman.KeyDown = kbevent\n",
    "#Hook the keyboard\n",
    "hookman.HookKeyboard()    \n",
    "hookman.HookMouse()\n",
    "#Start our listener\n",
    "hookman.start()\n",
    "    \n",
    "#Create a loop to keep the application running\n",
    "running = True\n",
    "while running:\n",
    "    time.sleep(0.1)\n",
    "\n",
    "#Close the listener when we are done\n",
    "hookman.cancel()\n",
    "\n",
    "# save y!!\n",
    "# y = np.array(y)\n",
    "# np.savetxt('capture.out', y)\n",
    "with open('capture.out', 'wb') as fp:\n",
    "    pickle.dump(y, fp)"
   ]
  },
  {
   "cell_type": "code",
   "execution_count": 13,
   "metadata": {
    "collapsed": false
   },
   "outputs": [
    {
     "ename": "FileNotFoundError",
     "evalue": "[Errno 2] No such file or directory: 'capture.out'",
     "output_type": "error",
     "traceback": [
      "\u001b[0;31m---------------------------------------------------------------------------\u001b[0m",
      "\u001b[0;31mFileNotFoundError\u001b[0m                         Traceback (most recent call last)",
      "\u001b[0;32m<ipython-input-13-88ab721eec83>\u001b[0m in \u001b[0;36m<module>\u001b[0;34m()\u001b[0m\n\u001b[0;32m----> 1\u001b[0;31m \u001b[0;32mwith\u001b[0m \u001b[0mopen\u001b[0m\u001b[0;34m(\u001b[0m\u001b[0;34m'capture.out'\u001b[0m\u001b[0;34m,\u001b[0m \u001b[0;34m'rb'\u001b[0m\u001b[0;34m)\u001b[0m \u001b[0;32mas\u001b[0m \u001b[0mf\u001b[0m\u001b[0;34m:\u001b[0m\u001b[0;34m\u001b[0m\u001b[0m\n\u001b[0m\u001b[1;32m      2\u001b[0m     \u001b[0mmy_list\u001b[0m \u001b[0;34m=\u001b[0m \u001b[0mpickle\u001b[0m\u001b[0;34m.\u001b[0m\u001b[0mload\u001b[0m\u001b[0;34m(\u001b[0m\u001b[0mf\u001b[0m\u001b[0;34m)\u001b[0m\u001b[0;34m\u001b[0m\u001b[0m\n\u001b[1;32m      3\u001b[0m     \u001b[0mprint\u001b[0m\u001b[0;34m(\u001b[0m\u001b[0mmy_list\u001b[0m\u001b[0;34m)\u001b[0m\u001b[0;34m\u001b[0m\u001b[0m\n",
      "\u001b[0;31mFileNotFoundError\u001b[0m: [Errno 2] No such file or directory: 'capture.out'"
     ]
    }
   ],
   "source": [
    "with open('capture.out', 'rb') as f:\n",
    "    my_list = pickle.load(f)\n",
    "    print(my_list)"
   ]
  },
  {
   "cell_type": "markdown",
   "metadata": {},
   "source": [
    "## this is q-learning or a trial"
   ]
  },
  {
   "cell_type": "code",
   "execution_count": 9,
   "metadata": {
    "collapsed": false
   },
   "outputs": [],
   "source": [
    "from time import sleep\n",
    "from qlearning4k.games.game import Game\n",
    "from pymouse import PyMouse\n",
    "from pykeyboard import PyKeyboard\n",
    "import pyscreenshot as ImageGrab\n",
    "import numpy as np\n",
    "\n",
    "k = PyKeyboard()\n",
    "\n",
    "class Mario(Game):\n",
    "    SLEEP = 0.1\n",
    "    ACTIONS = {\n",
    "        0: 'w',\n",
    "        1: 's',\n",
    "        2: 'a',\n",
    "        3: 'd',\n",
    "        4: 'f',\n",
    "        5: 'g',\n",
    "        6: 'r',\n",
    "        7: 't',\n",
    "        8: '\\\\',\n",
    "    }\n",
    "    \n",
    "    def __init__(self):\n",
    "        self.reset()\n",
    "        self.update_state() \n",
    "        self.__score = 0\n",
    "\n",
    "    @property\n",
    "    def name(self):\n",
    "        return \"Mario\"\n",
    "\n",
    "    @property\n",
    "    def nb_actions(self):\n",
    "        return len(self.ACTIONS.values())\n",
    "\n",
    "    def reset(self):\n",
    "        k.tap_key(k.function_keys[7])\n",
    "        \n",
    "    def update_state(self):\n",
    "        im = ImageGrab.grab(bbox=(120, 75, 710, 530))\n",
    "        self.state = np.array(im)\n",
    "        self.state = self.state.reshape(1, self.state.shape[2], self.state.shape[0], self.state.shape[1])\n",
    "\n",
    "    def play(self, action):\n",
    "        print('this is action: ', action)\n",
    "        k.tap_key(self.ACTIONS[action])\n",
    "        sleep(self.SLEEP)\n",
    "        \n",
    "        self.update_state()\n",
    "        self.__score += 1\n",
    "\n",
    "    def get_state(self):\n",
    "        return self.state\n",
    "\n",
    "    def get_score(self):\n",
    "        if self.is_over():\n",
    "            return 0\n",
    "        return self.__score\n",
    "        \n",
    "    def is_over(self):\n",
    "        return self.state.mean() <= 1.0\n",
    "\n",
    "    def is_won(self):\n",
    "        return self.state.mean() > 1.0 and self.state.mean() < 30.0 and self.state.std() < 50.0"
   ]
  },
  {
   "cell_type": "code",
   "execution_count": 12,
   "metadata": {
    "collapsed": false
   },
   "outputs": [],
   "source": [
    "import sys\n",
    "import os\n",
    "sys.path.append(os.path.abspath('.'))\n",
    "from agent import Agent\n",
    "from time import sleep\n",
    "\n",
    "sleep(5)\n",
    "\n",
    "mario = Mario()\n",
    "agent = Agent(model=model)\n",
    "agent.train(mario, batch_size=10, nb_epoch=1000, epsilon=.1)\n",
    "# agent.play(mario)"
   ]
  }
 ],
 "metadata": {
  "kernelspec": {
   "display_name": "Python 3",
   "language": "python",
   "name": "python3"
  },
  "language_info": {
   "codemirror_mode": {
    "name": "ipython",
    "version": 3
   },
   "file_extension": ".py",
   "mimetype": "text/x-python",
   "name": "python",
   "nbconvert_exporter": "python",
   "pygments_lexer": "ipython3",
   "version": "3.4.3"
  }
 },
 "nbformat": 4,
 "nbformat_minor": 0
}
