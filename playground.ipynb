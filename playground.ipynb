{
 "cells": [
  {
   "cell_type": "code",
   "execution_count": 4,
   "metadata": {
    "collapsed": false
   },
   "outputs": [
    {
     "name": "stderr",
     "output_type": "stream",
     "text": [
      "Using Theano backend.\n",
      "Using gpu device 0: GeForce GTX 960 (CNMeM is enabled with initial size: 65.0% of memory, cuDNN not available)\n"
     ]
    }
   ],
   "source": [
    "import pyscreenshot as ImageGrab\n",
    "import keras"
   ]
  },
  {
   "cell_type": "markdown",
   "metadata": {},
   "source": [
    "### model"
   ]
  },
  {
   "cell_type": "code",
   "execution_count": null,
   "metadata": {
    "collapsed": false
   },
   "outputs": [],
   "source": [
    "from keras.utils import np_utils\n",
    "from keras.callbacks import ModelCheckpoint, EarlyStopping\n",
    "from itertools import chain\n",
    "from keras import backend as K\n",
    "from keras.layers import Dense, Activation, Convolution2D, Convolution3D, MaxPooling2D, MaxPooling3D, BatchNormalization, Flatten, ZeroPadding2D, Dropout\n",
    "from keras.models import load_model, Sequential\n",
    "from keras.optimizers import Adam\n",
    "\n",
    "INPUT_SHAPE = (3, 455, 590)\n",
    "\n",
    "def center_normalize(x):\n",
    "    \"\"\"Custom activation for online sample-wise center and std. normalization.\"\"\"\n",
    "    return (x - K.mean(x)) / K.std(x)\n",
    "\n",
    "def VGG_16(weights_path=None):\n",
    "    model = Sequential()\n",
    "    model.add(Activation(activation=center_normalize, input_shape=INPUT_SHAPE))\n",
    "    model.add(ZeroPadding2D((1,1), input_shape=INPUT_SHAPE))\n",
    "    # model.add(ZeroPadding2D((1,1),input_shape=(2, INPUT_ROW, INPUT_COL)))\n",
    "    model.add(Convolution2D(64, 3, 3, activation='relu'))\n",
    "    model.add(ZeroPadding2D((1,1)))\n",
    "    model.add(Convolution2D(64, 3, 3, activation='relu'))\n",
    "    model.add(MaxPooling2D((2,2), strides=(2,2)))\n",
    "\n",
    "    model.add(ZeroPadding2D((1,1)))\n",
    "    model.add(Convolution2D(128, 3, 3, activation='relu'))\n",
    "    model.add(ZeroPadding2D((1,1)))\n",
    "    model.add(Convolution2D(128, 3, 3, activation='relu'))\n",
    "    model.add(MaxPooling2D((2,2), strides=(2,2)))\n",
    "\n",
    "    model.add(ZeroPadding2D((1,1)))\n",
    "    model.add(Convolution2D(256, 3, 3, activation='relu'))\n",
    "    model.add(ZeroPadding2D((1,1)))\n",
    "    model.add(Convolution2D(256, 3, 3, activation='relu'))\n",
    "    model.add(ZeroPadding2D((1,1)))\n",
    "    model.add(Convolution2D(256, 3, 3, activation='relu'))\n",
    "    model.add(MaxPooling2D((2,2), strides=(2,2)))\n",
    "\n",
    "    model.add(ZeroPadding2D((1,1)))\n",
    "    model.add(Convolution2D(512, 3, 3, activation='relu'))\n",
    "    model.add(ZeroPadding2D((1,1)))\n",
    "    model.add(Convolution2D(512, 3, 3, activation='relu'))\n",
    "    model.add(ZeroPadding2D((1,1)))\n",
    "    model.add(Convolution2D(512, 3, 3, activation='relu'))\n",
    "    model.add(MaxPooling2D((2,2), strides=(2,2)))\n",
    "\n",
    "    model.add(ZeroPadding2D((1,1)))\n",
    "    model.add(Convolution2D(512, 3, 3, activation='relu'))\n",
    "    model.add(ZeroPadding2D((1,1)))\n",
    "    model.add(Convolution2D(512, 3, 3, activation='relu'))\n",
    "    model.add(ZeroPadding2D((1,1)))\n",
    "    model.add(Convolution2D(512, 3, 3, activation='relu'))\n",
    "    model.add(MaxPooling2D((2,2), strides=(2,2)))\n",
    "\n",
    "    model.add(Flatten())\n",
    "    model.add(Dense(512, activation='relu'))\n",
    "    model.add(Dropout(0.5))\n",
    "    model.add(Dense(512, activation='relu'))\n",
    "    model.add(Dropout(0.5))\n",
    "    model.add(Dense(7, activation='softmax'))\n",
    "    model.compile(optimizer=Adam(lr=1e-5), loss=OBJECTIVE_FUNCTION, metrics=METRICS)\n",
    "\n",
    "    return model\n",
    "\n",
    "model = VGG_16()\n",
    "# model.summary()"
   ]
  },
  {
   "cell_type": "markdown",
   "metadata": {},
   "source": [
    "### get screenshot"
   ]
  },
  {
   "cell_type": "code",
   "execution_count": 4,
   "metadata": {
    "collapsed": false
   },
   "outputs": [
    {
     "name": "stdout",
     "output_type": "stream",
     "text": [
      "<class 'numpy.ndarray'>\n",
      "(455, 590, 3)\n"
     ]
    }
   ],
   "source": [
    "import numpy as np\n",
    "import pyscreenshot as ImageGrab\n",
    "im=ImageGrab.grab(bbox=(120,75,710,530)) # X1,Y1,X2,Y2\n",
    "# im.show()\n",
    "im.save(\"vaca.png\")\n",
    "pix = np.array(im)\n",
    "print(type(pix))\n",
    "print(pix.shape)"
   ]
  },
  {
   "cell_type": "markdown",
   "metadata": {},
   "source": [
    "### joystick"
   ]
  },
  {
   "cell_type": "raw",
   "metadata": {},
   "source": [
    "import pyxhook\n",
    "import time\n",
    "import pickle\n",
    "import numpy as np\n",
    "\n",
    "grab_count = 0\n",
    "y = []\n",
    "\n",
    "#This function is called every time a key is presssed\n",
    "def kbevent(event):\n",
    "    global grab_count\n",
    "    global y\n",
    "     \n",
    "    if event.Ascii == 32:\n",
    "        global running\n",
    "        running = False\n",
    "        return\n",
    "    \n",
    "    #print key info\n",
    "    im = ImageGrab.grab(bbox=(120, 75, 710, 530))\n",
    "    im.save('capture/{}.png'.format(grab_count))\n",
    "    grab_count += 1\n",
    "    \n",
    "#     print('pressed: {}'.format(event.Ascii))\n",
    "    y.append(event.Ascii)\n",
    "    \n",
    "\n",
    "#Create hookmanager \n",
    "hookman = pyxhook.HookManager()\n",
    "#Define our callback to fire when a key is pressed down\n",
    "hookman.KeyDown = kbevent\n",
    "#Hook the keyboard\n",
    "hookman.HookKeyboard()    \n",
    "hookman.HookMouse()\n",
    "#Start our listener\n",
    "hookman.start()\n",
    "    \n",
    "#Create a loop to keep the application running\n",
    "running = True\n",
    "while running:\n",
    "    time.sleep(0.1)\n",
    "\n",
    "#Close the listener when we are done\n",
    "hookman.cancel()\n",
    "\n",
    "# save y!!\n",
    "# y = np.array(y)\n",
    "# np.savetxt('capture.out', y)\n",
    "with open('capture.out', 'wb') as fp:\n",
    "    pickle.dump(y, fp)"
   ]
  },
  {
   "cell_type": "code",
   "execution_count": 13,
   "metadata": {
    "collapsed": false
   },
   "outputs": [
    {
     "ename": "FileNotFoundError",
     "evalue": "[Errno 2] No such file or directory: 'capture.out'",
     "output_type": "error",
     "traceback": [
      "\u001b[0;31m---------------------------------------------------------------------------\u001b[0m",
      "\u001b[0;31mFileNotFoundError\u001b[0m                         Traceback (most recent call last)",
      "\u001b[0;32m<ipython-input-13-88ab721eec83>\u001b[0m in \u001b[0;36m<module>\u001b[0;34m()\u001b[0m\n\u001b[0;32m----> 1\u001b[0;31m \u001b[0;32mwith\u001b[0m \u001b[0mopen\u001b[0m\u001b[0;34m(\u001b[0m\u001b[0;34m'capture.out'\u001b[0m\u001b[0;34m,\u001b[0m \u001b[0;34m'rb'\u001b[0m\u001b[0;34m)\u001b[0m \u001b[0;32mas\u001b[0m \u001b[0mf\u001b[0m\u001b[0;34m:\u001b[0m\u001b[0;34m\u001b[0m\u001b[0m\n\u001b[0m\u001b[1;32m      2\u001b[0m     \u001b[0mmy_list\u001b[0m \u001b[0;34m=\u001b[0m \u001b[0mpickle\u001b[0m\u001b[0;34m.\u001b[0m\u001b[0mload\u001b[0m\u001b[0;34m(\u001b[0m\u001b[0mf\u001b[0m\u001b[0;34m)\u001b[0m\u001b[0;34m\u001b[0m\u001b[0m\n\u001b[1;32m      3\u001b[0m     \u001b[0mprint\u001b[0m\u001b[0;34m(\u001b[0m\u001b[0mmy_list\u001b[0m\u001b[0;34m)\u001b[0m\u001b[0;34m\u001b[0m\u001b[0m\n",
      "\u001b[0;31mFileNotFoundError\u001b[0m: [Errno 2] No such file or directory: 'capture.out'"
     ]
    }
   ],
   "source": [
    "with open('capture.out', 'rb') as f:\n",
    "    my_list = pickle.load(f)\n",
    "    print(my_list)"
   ]
  },
  {
   "cell_type": "markdown",
   "metadata": {},
   "source": [
    "## this is q-learning or a trial"
   ]
  },
  {
   "cell_type": "code",
   "execution_count": 1,
   "metadata": {
    "collapsed": true
   },
   "outputs": [],
   "source": [
    "from qlearning4k.games.game import Game\n",
    "from pymouse import PyMouse\n",
    "from pykeyboard import PyKeyboard\n",
    "\n",
    "class Mario(Game):\n",
    "    def __init__(self):\n",
    "        self.reset()\n",
    "        self.k = PyKeyboard()\n",
    "\n",
    "    @property\n",
    "    def name(self):\n",
    "        return \"Game\"\n",
    "\n",
    "    @property\n",
    "    def nb_actions(self):\n",
    "        return 7\n",
    "\n",
    "    def reset(self):\n",
    "        pass\n",
    "\n",
    "    def play(self, action):\n",
    "        print('this is action: ' + action)\n",
    "        self.k.tap_key(chr(action))\n",
    "        \n",
    "        im = ImageGrab.grab(bbox=(120, 75, 710, 530))\n",
    "        self.state = im\n",
    "\n",
    "    def get_state(self):\n",
    "        self.state\n",
    "\n",
    "    def get_score(self):\n",
    "        return 0\n",
    "\n",
    "    def is_over(self):\n",
    "        return False\n",
    "\n",
    "    def is_won(self):\n",
    "        return False\n",
    "\n",
    "    def get_frame(self):\n",
    "        return self.get_state()\n",
    "\n",
    "    def draw(self):\n",
    "        return self.get_state()\n",
    "\n",
    "    def get_possible_actions(self):\n",
    "        return range(self.nb_actions)"
   ]
  },
  {
   "cell_type": "code",
   "execution_count": 3,
   "metadata": {
    "collapsed": false
   },
   "outputs": [],
   "source": [
    "from pymouse import PyMouse\n",
    "from pykeyboard import PyKeyboard\n",
    "\n",
    "m = PyMouse()\n",
    "k = PyKeyboard()\n",
    "\n",
    "# pressing a key\n",
    "k.release_key('v')"
   ]
  }
 ],
 "metadata": {
  "kernelspec": {
   "display_name": "Python 3",
   "language": "python",
   "name": "python3"
  },
  "language_info": {
   "codemirror_mode": {
    "name": "ipython",
    "version": 3
   },
   "file_extension": ".py",
   "mimetype": "text/x-python",
   "name": "python",
   "nbconvert_exporter": "python",
   "pygments_lexer": "ipython3",
   "version": "3.4.3"
  }
 },
 "nbformat": 4,
 "nbformat_minor": 0
}
